{
 "cells": [
  {
   "cell_type": "markdown",
   "metadata": {},
   "source": [
    "# Selección del Modelo de Red Neuronal para Predicción de Incumplimiento Crediticio\n",
    "\n",
    "## 1. Justificación de la Elección del Modelo\n",
    "\n",
    "### Capacidad para Capturar Patrones Complejos\n",
    "El problema de predicción de incumplimiento crediticio involucra relaciones no lineales entre las características, como ingresos, deudas y duración del préstamo. Una red neuronal es adecuada porque puede modelar estas relaciones no lineales.\n",
    "\n",
    "### Versatilidad\n",
    "Las redes neuronales son muy flexibles y pueden ajustarse a distintos tipos de datos, incluyendo características numéricas y categóricas preprocesadas.\n",
    "\n",
    "### Capacidad para Aprender Representaciones\n",
    "Las capas ocultas del modelo permiten aprender representaciones intermedias de las características, lo que podría mejorar el rendimiento en comparación con modelos lineales.\n",
    "\n",
    "### Escalabilidad\n",
    "El modelo puede adaptarse fácilmente a datasets más grandes añadiendo más capas o neuronas, si es necesario.\n",
    "\n",
    "### Probabilidad como Salida\n",
    "Usar una activación `sigmoid` en la capa de salida permite al modelo generar una probabilidad de incumplimiento, crucial para interpretar los resultados y tomar decisiones de riesgo.\n",
    "\n",
    "---\n",
    "\n",
    "## 2. Descripción del Modelo\n",
    "\n",
    "### Arquitectura del Modelo\n",
    "\n",
    "1. **Entrada**:\n",
    "   - El número de neuronas en la capa de entrada equivale al número de características preprocesadas.\n",
    "\n",
    "2. **Capas Ocultas**:\n",
    "   - **Primera Capa Oculta**:\n",
    "     - Neuronas: 128\n",
    "     - Activación: ReLU\n",
    "   - **Segunda Capa Oculta**:\n",
    "     - Neuronas: 64\n",
    "     - Activación: ReLU\n",
    "   - **Tercera Capa Oculta**:\n",
    "     - Neuronas: 32\n",
    "     - Activación: ReLU\n",
    "   - **Dropout**:\n",
    "     - Proporción: 30% en las capas ocultas para prevenir sobreajuste.\n",
    "\n",
    "3. **Salida**:\n",
    "   - Neurona: 1\n",
    "   - Activación: Sigmoid, que genera una probabilidad en el rango [0, 1].\n",
    "\n",
    "### Parámetros de Compilación\n",
    "- **Función de pérdida**: `binary_crossentropy`, adecuada para clasificación binaria.\n",
    "- **Optimizador**: Adam, eficiente y robusto para problemas no convexos.\n",
    "- **Métrica de evaluación**: Precisión global (`accuracy`).\n",
    "\n",
    "---\n",
    "\n",
    "## 3. Análisis Descriptivo del Problema\n",
    "\n",
    "### Descripción del Dataset\n",
    "El dataset contiene características como:\n",
    "\n",
    "- **Características Demográficas**:\n",
    "  - Ingresos: `annual_inc`\n",
    "  - Antigüedad laboral: `emp_length`\n",
    "  - Estado de la vivienda: `home_ownership`\n",
    "\n",
    "- **Historial de Crédito**:\n",
    "  - Número de cuentas abiertas: `open_acc`\n",
    "  - Saldo rotativo: `revol_bal`\n",
    "  - Deuda total: `total_acc`\n",
    "\n",
    "- **Características del Préstamo**:\n",
    "  - Monto solicitado: `loan_amnt`\n",
    "  - Tasa de interés: `int_rate`\n",
    "  - Duración del préstamo: `term`\n",
    "\n",
    "### Hipótesis Basadas en el Dataset\n",
    "\n",
    "1. **Hipótesis 1**: Los clientes con ingresos más altos tienen menor probabilidad de incumplimiento.\n",
    "   - **Fundamento**: Un ingreso más alto generalmente se asocia con una mayor capacidad para cumplir con las obligaciones financieras.\n",
    "\n",
    "2. **Hipótesis 2**: Los préstamos a más largo plazo (por ejemplo, 60 meses) tienen una mayor probabilidad de incumplimiento.\n",
    "   - **Fundamento**: A mayor duración del préstamo, mayor incertidumbre financiera para el cliente.\n",
    "\n",
    "3. **Hipótesis 3**: Las personas con un historial crediticio sólido (pocas cuentas morosas, bajo índice de deuda-ingreso) tienen una menor probabilidad de incumplimiento.\n",
    "   - **Fundamento**: Un buen historial indica un comportamiento responsable con las deudas.\n",
    "\n",
    "---\n",
    "\n",
    "## 4. Análisis Comparativo: ¿Por qué no otro modelo?\n",
    "\n",
    "1. **Modelos Lineales (Regresión Logística)**:\n",
    "   - Limitados para capturar relaciones no lineales.\n",
    "   - Menor flexibilidad frente a redes neuronales.\n",
    "\n",
    "2. **Árboles de Decisión / Random Forest**:\n",
    "   - Interpretables, pero tienden a sobreajustarse en datasets pequeños.\n",
    "   - Menos eficaces para producir probabilidades calibradas.\n",
    "\n",
    "3. **Modelos Basados en Ensambles (XGBoost, LightGBM)**:\n",
    "   - Alternativa robusta, pero requieren preprocesamiento adicional y calibración de probabilidades.\n",
    "\n",
    "4. **Modelos Basados en Vecindarios (KNN)**:\n",
    "   - Ineficientes para datasets grandes debido a su alta complejidad computacional.\n",
    "\n",
    "---\n",
    "\n",
    "## 5. Generación de Hipótesis Adicionales Basadas en el Modelo\n",
    "\n",
    "1. **Impacto del Balance de Datos**:\n",
    "   - Si el dataset está desbalanceado (por ejemplo, pocos incumplidores), el modelo podría favorecer la clase mayoritaria.\n",
    "\n",
    "2. **Relación entre Tasa de Interés y Incumplimiento**:\n",
    "   - Altas tasas de interés podrían correlacionarse con mayor probabilidad de incumplimiento debido al aumento en el costo total del préstamo.\n",
    "\n",
    "3. **Efecto del Dropout**:\n",
    "   - Aumentar el porcentaje de Dropout podría mejorar la generalización del modelo al reducir el sobreajuste en características dominantes.\n",
    "\n"
   ]
  },
  {
   "cell_type": "markdown",
   "metadata": {},
   "source": [
    "## 1. Normalización de los datos "
   ]
  },
  {
   "cell_type": "code",
   "execution_count": 11,
   "metadata": {},
   "outputs": [],
   "source": [
    "import pandas as pd\n",
    "from sklearn.preprocessing import StandardScaler, LabelEncoder\n",
    "\n",
    "# Cargar datos\n",
    "data = pd.read_csv(\"cleaned_dataset.csv\")\n",
    "\n",
    "# Convertir variables categóricas a numéricas\n",
    "categorical_features = ['term', 'sub_grade', 'home_ownership', 'verification_status', 'purpose', 'initial_list_status', 'application_type']\n",
    "label_encoders = {}\n",
    "for col in categorical_features:\n",
    "    le = LabelEncoder()\n",
    "    data[col] = le.fit_transform(data[col].astype(str))\n",
    "    label_encoders[col] = le\n",
    "\n",
    "# Separar características y etiqueta\n",
    "X = data[['term', 'int_rate', 'installment', 'sub_grade', 'emp_length', 'home_ownership',\n",
    "          'annual_inc', 'verification_status', 'purpose', 'dti', 'delinq_2yrs', 'inq_last_6mths',\n",
    "          'open_acc', 'pub_rec', 'revol_bal', 'revol_util', 'total_acc', 'initial_list_status',\n",
    "          'out_prncp', 'total_rec_prncp', 'total_rec_int', 'total_rec_late_fee', 'last_pymnt_amnt',\n",
    "          'collections_12_mths_ex_med', 'application_type', 'acc_now_delinq', 'tot_coll_amt',\n",
    "          'tot_cur_bal', 'total_rev_hi_lim']]\n",
    "\n",
    "y = data['loan_status']\n",
    "\n",
    "# Escalar características numéricas\n",
    "scaler = StandardScaler()\n",
    "X_scaled = scaler.fit_transform(X)\n"
   ]
  },
  {
   "cell_type": "markdown",
   "metadata": {},
   "source": [
    "## 2. División en Conjuntos de Entrenamiento y Prueba"
   ]
  },
  {
   "cell_type": "code",
   "execution_count": 12,
   "metadata": {},
   "outputs": [],
   "source": [
    "from sklearn.model_selection import train_test_split\n",
    "\n",
    "# Dividir los datos en conjuntos de entrenamiento y prueba\n",
    "X_train, X_test, y_train, y_test = train_test_split(X_scaled, y, test_size=0.2, random_state=42)\n"
   ]
  },
  {
   "cell_type": "markdown",
   "metadata": {},
   "source": [
    "## 3. Construcción, Compilación y Entrenamiento del Modelo"
   ]
  },
  {
   "cell_type": "code",
   "execution_count": 13,
   "metadata": {},
   "outputs": [
    {
     "name": "stderr",
     "output_type": "stream",
     "text": [
      "c:\\Users\\samue\\AppData\\Local\\Programs\\Python\\Python311\\Lib\\site-packages\\keras\\src\\layers\\core\\dense.py:87: UserWarning: Do not pass an `input_shape`/`input_dim` argument to a layer. When using Sequential models, prefer using an `Input(shape)` object as the first layer in the model instead.\n",
      "  super().__init__(activity_regularizer=activity_regularizer, **kwargs)\n"
     ]
    },
    {
     "name": "stdout",
     "output_type": "stream",
     "text": [
      "Epoch 1/20\n",
      "\u001b[1m15480/15480\u001b[0m \u001b[32m━━━━━━━━━━━━━━━━━━━━\u001b[0m\u001b[37m\u001b[0m \u001b[1m52s\u001b[0m 3ms/step - accuracy: 0.9738 - loss: 0.1022 - val_accuracy: 0.9834 - val_loss: 0.0722\n",
      "Epoch 2/20\n",
      "\u001b[1m15480/15480\u001b[0m \u001b[32m━━━━━━━━━━━━━━━━━━━━\u001b[0m\u001b[37m\u001b[0m \u001b[1m49s\u001b[0m 3ms/step - accuracy: 0.9834 - loss: 0.0734 - val_accuracy: 0.9837 - val_loss: 0.0712\n",
      "Epoch 3/20\n",
      "\u001b[1m15480/15480\u001b[0m \u001b[32m━━━━━━━━━━━━━━━━━━━━\u001b[0m\u001b[37m\u001b[0m \u001b[1m49s\u001b[0m 3ms/step - accuracy: 0.9836 - loss: 0.0723 - val_accuracy: 0.9834 - val_loss: 0.0716\n",
      "Epoch 4/20\n",
      "\u001b[1m15480/15480\u001b[0m \u001b[32m━━━━━━━━━━━━━━━━━━━━\u001b[0m\u001b[37m\u001b[0m \u001b[1m47s\u001b[0m 3ms/step - accuracy: 0.9835 - loss: 0.0724 - val_accuracy: 0.9839 - val_loss: 0.0707\n",
      "Epoch 5/20\n",
      "\u001b[1m15480/15480\u001b[0m \u001b[32m━━━━━━━━━━━━━━━━━━━━\u001b[0m\u001b[37m\u001b[0m \u001b[1m47s\u001b[0m 3ms/step - accuracy: 0.9837 - loss: 0.0718 - val_accuracy: 0.9837 - val_loss: 0.0708\n",
      "Epoch 6/20\n",
      "\u001b[1m15480/15480\u001b[0m \u001b[32m━━━━━━━━━━━━━━━━━━━━\u001b[0m\u001b[37m\u001b[0m \u001b[1m47s\u001b[0m 3ms/step - accuracy: 0.9839 - loss: 0.0711 - val_accuracy: 0.9839 - val_loss: 0.0707\n",
      "Epoch 7/20\n",
      "\u001b[1m15480/15480\u001b[0m \u001b[32m━━━━━━━━━━━━━━━━━━━━\u001b[0m\u001b[37m\u001b[0m \u001b[1m48s\u001b[0m 3ms/step - accuracy: 0.9837 - loss: 0.0714 - val_accuracy: 0.9839 - val_loss: 0.0704\n",
      "Epoch 8/20\n",
      "\u001b[1m15480/15480\u001b[0m \u001b[32m━━━━━━━━━━━━━━━━━━━━\u001b[0m\u001b[37m\u001b[0m \u001b[1m48s\u001b[0m 3ms/step - accuracy: 0.9836 - loss: 0.0717 - val_accuracy: 0.9840 - val_loss: 0.0698\n",
      "Epoch 9/20\n",
      "\u001b[1m15480/15480\u001b[0m \u001b[32m━━━━━━━━━━━━━━━━━━━━\u001b[0m\u001b[37m\u001b[0m \u001b[1m48s\u001b[0m 3ms/step - accuracy: 0.9837 - loss: 0.0707 - val_accuracy: 0.9835 - val_loss: 0.0708\n",
      "Epoch 10/20\n",
      "\u001b[1m15480/15480\u001b[0m \u001b[32m━━━━━━━━━━━━━━━━━━━━\u001b[0m\u001b[37m\u001b[0m \u001b[1m48s\u001b[0m 3ms/step - accuracy: 0.9836 - loss: 0.0716 - val_accuracy: 0.9839 - val_loss: 0.0710\n",
      "Epoch 11/20\n",
      "\u001b[1m15480/15480\u001b[0m \u001b[32m━━━━━━━━━━━━━━━━━━━━\u001b[0m\u001b[37m\u001b[0m \u001b[1m48s\u001b[0m 3ms/step - accuracy: 0.9839 - loss: 0.0700 - val_accuracy: 0.9838 - val_loss: 0.0699\n",
      "Epoch 12/20\n",
      "\u001b[1m15480/15480\u001b[0m \u001b[32m━━━━━━━━━━━━━━━━━━━━\u001b[0m\u001b[37m\u001b[0m \u001b[1m54s\u001b[0m 3ms/step - accuracy: 0.9838 - loss: 0.0707 - val_accuracy: 0.9837 - val_loss: 0.0705\n",
      "Epoch 13/20\n",
      "\u001b[1m15480/15480\u001b[0m \u001b[32m━━━━━━━━━━━━━━━━━━━━\u001b[0m\u001b[37m\u001b[0m \u001b[1m52s\u001b[0m 3ms/step - accuracy: 0.9838 - loss: 0.0710 - val_accuracy: 0.9841 - val_loss: 0.0691\n",
      "Epoch 14/20\n",
      "\u001b[1m15480/15480\u001b[0m \u001b[32m━━━━━━━━━━━━━━━━━━━━\u001b[0m\u001b[37m\u001b[0m \u001b[1m50s\u001b[0m 3ms/step - accuracy: 0.9837 - loss: 0.0713 - val_accuracy: 0.9840 - val_loss: 0.0694\n",
      "Epoch 15/20\n",
      "\u001b[1m15480/15480\u001b[0m \u001b[32m━━━━━━━━━━━━━━━━━━━━\u001b[0m\u001b[37m\u001b[0m \u001b[1m57s\u001b[0m 4ms/step - accuracy: 0.9839 - loss: 0.0707 - val_accuracy: 0.9841 - val_loss: 0.0693\n",
      "Epoch 16/20\n",
      "\u001b[1m15480/15480\u001b[0m \u001b[32m━━━━━━━━━━━━━━━━━━━━\u001b[0m\u001b[37m\u001b[0m \u001b[1m48s\u001b[0m 3ms/step - accuracy: 0.9840 - loss: 0.0697 - val_accuracy: 0.9841 - val_loss: 0.0694\n",
      "Epoch 17/20\n",
      "\u001b[1m15480/15480\u001b[0m \u001b[32m━━━━━━━━━━━━━━━━━━━━\u001b[0m\u001b[37m\u001b[0m \u001b[1m57s\u001b[0m 4ms/step - accuracy: 0.9841 - loss: 0.0694 - val_accuracy: 0.9839 - val_loss: 0.0701\n",
      "Epoch 18/20\n",
      "\u001b[1m15480/15480\u001b[0m \u001b[32m━━━━━━━━━━━━━━━━━━━━\u001b[0m\u001b[37m\u001b[0m \u001b[1m54s\u001b[0m 3ms/step - accuracy: 0.9841 - loss: 0.0692 - val_accuracy: 0.9841 - val_loss: 0.0703\n",
      "Epoch 19/20\n",
      "\u001b[1m15480/15480\u001b[0m \u001b[32m━━━━━━━━━━━━━━━━━━━━\u001b[0m\u001b[37m\u001b[0m \u001b[1m62s\u001b[0m 4ms/step - accuracy: 0.9840 - loss: 0.0693 - val_accuracy: 0.9841 - val_loss: 0.0693\n",
      "Epoch 20/20\n",
      "\u001b[1m15480/15480\u001b[0m \u001b[32m━━━━━━━━━━━━━━━━━━━━\u001b[0m\u001b[37m\u001b[0m \u001b[1m54s\u001b[0m 4ms/step - accuracy: 0.9840 - loss: 0.0699 - val_accuracy: 0.9841 - val_loss: 0.0687\n",
      "\n",
      "Evaluación del modelo:\n",
      "Pérdida: 0.0681\n",
      "Precisión: 0.9842\n"
     ]
    }
   ],
   "source": [
    "from tensorflow.keras.models import Sequential\n",
    "from tensorflow.keras.layers import Dense, Dropout\n",
    "\n",
    "# Construir el modelo de red neuronal\n",
    "model = Sequential([\n",
    "    Dense(128, activation='relu', input_shape=(X_train.shape[1],)),\n",
    "    Dropout(0.3),\n",
    "    Dense(64, activation='relu'),\n",
    "    Dropout(0.3),\n",
    "    Dense(32, activation='relu'),\n",
    "    Dense(1, activation='sigmoid')\n",
    "])\n",
    "\n",
    "# Compilar el modelo\n",
    "model.compile(optimizer='adam', loss='binary_crossentropy', metrics=['accuracy'])\n",
    "\n",
    "# Entrenar el modelo\n",
    "history = model.fit(X_train, y_train, epochs=20, batch_size=32, validation_split=0.2, verbose=1)\n",
    "\n",
    "# Evaluar el modelo\n",
    "eval_results = model.evaluate(X_test, y_test, verbose=0)\n",
    "print(f\"\\nEvaluación del modelo:\\nPérdida: {eval_results[0]:.4f}\\nPrecisión: {eval_results[1]:.4f}\")\n",
    "\n"
   ]
  },
  {
   "cell_type": "markdown",
   "metadata": {},
   "source": [
    "## Se guarda el modelo"
   ]
  },
  {
   "cell_type": "code",
   "execution_count": 14,
   "metadata": {},
   "outputs": [],
   "source": [
    "model.save(\"modelo_probabilidad.keras\")\n",
    "\n"
   ]
  },
  {
   "cell_type": "markdown",
   "metadata": {},
   "source": [
    "## Evaluación del modelo"
   ]
  },
  {
   "cell_type": "code",
   "execution_count": 17,
   "metadata": {},
   "outputs": [
    {
     "name": "stdout",
     "output_type": "stream",
     "text": [
      "\u001b[1m4838/4838\u001b[0m \u001b[32m━━━━━━━━━━━━━━━━━━━━\u001b[0m\u001b[37m\u001b[0m \u001b[1m7s\u001b[0m 1ms/step\n",
      "AUC: 0.9497\n"
     ]
    },
    {
     "data": {
      "image/png": "[encoded data removed]",
      "text/plain": [
       "<Figure size 800x600 with 1 Axes>"
      ]
     },
     "metadata": {},
     "output_type": "display_data"
    }
   ],
   "source": [
    "from sklearn.metrics import roc_curve, roc_auc_score\n",
    "import matplotlib.pyplot as plt\n",
    "\n",
    "# Obtener las probabilidades predichas\n",
    "y_pred_prob = model.predict(X_test)\n",
    "\n",
    "# Calcular la curva ROC\n",
    "fpr, tpr, thresholds = roc_curve(y_test, y_pred_prob)\n",
    "\n",
    "# Calcular el AUC\n",
    "auc = roc_auc_score(y_test, y_pred_prob)\n",
    "print(f\"AUC: {auc:.4f}\")\n",
    "\n",
    "# Graficar la curva ROC\n",
    "plt.figure(figsize=(8, 6))\n",
    "plt.plot(fpr, tpr, label=f\"ROC Curve (AUC = {auc:.4f})\")\n",
    "plt.plot([0, 1], [0, 1], 'k--', label=\"Random Guess\")\n",
    "plt.xlabel(\"False Positive Rate\")\n",
    "plt.ylabel(\"True Positive Rate\")\n",
    "plt.title(\"ROC Curve\")\n",
    "plt.legend(loc=\"lower right\")\n",
    "plt.show()\n"
   ]
  },
  {
   "cell_type": "code",
   "execution_count": 3,
   "metadata": {},
   "outputs": [],
   "source": []
  },
  {
   "cell_type": "code",
   "execution_count": null,
   "metadata": {},
   "outputs": [],
   "source": []
  },
  {
   "cell_type": "code",
   "execution_count": null,
   "metadata": {},
   "outputs": [
    {
     "name": "stdout",
     "output_type": "stream",
     "text": [
      "6502\n",
      "7205\n"
     ]
    }
   ],
   "source": []
  }
 ],
 "metadata": {
  "kernelspec": {
   "display_name": "Python 3",
   "language": "python",
   "name": "python3"
  },
  "language_info": {
   "codemirror_mode": {
    "name": "ipython",
    "version": 3
   },
   "file_extension": ".py",
   "mimetype": "text/x-python",
   "name": "python",
   "nbconvert_exporter": "python",
   "pygments_lexer": "ipython3",
   "version": "3.11.5"
  }
 },
 "nbformat": 4,
 "nbformat_minor": 2
}
